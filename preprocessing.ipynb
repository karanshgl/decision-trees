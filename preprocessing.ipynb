{
 "cells": [
  {
   "cell_type": "code",
   "execution_count": 1,
   "metadata": {},
   "outputs": [],
   "source": [
    "TRAIN_BOW = './aclImdb/train/labeledBow.feat'\n",
    "TEST_BOW = './aclImdb/test/labeledBow.feat'"
   ]
  },
  {
   "cell_type": "code",
   "execution_count": 2,
   "metadata": {},
   "outputs": [],
   "source": [
    "# GET TRAINING SET\n",
    "\n",
    "train_space = []\n",
    "with open(TRAIN_BOW) as fp:\n",
    "    train_space = fp.readlines()\n",
    "train_positive_space = [[1] + sample.split(' ')[1:] for sample in train_space if int(sample.split(' ')[0]) >=7]\n",
    "train_negative_space = [[-1] + sample.split(' ')[1:] for sample in train_space if int(sample.split(' ')[0]) <=4]"
   ]
  },
  {
   "cell_type": "code",
   "execution_count": 3,
   "metadata": {},
   "outputs": [],
   "source": [
    "# SAMPLE FROM TRAINING SET\n",
    "from random import shuffle\n",
    "\n",
    "SAMPLE_SIZE = 1000\n",
    "\n",
    "# Positive\n",
    "pos_indices = list(range(0,len(train_positive_space)))\n",
    "shuffle(pos_indices)\n",
    "train_positive_sample = [train_positive_space[i] for i in pos_indices[:SAMPLE_SIZE]]\n",
    "\n",
    "# Write in a file\n",
    "with open('./sample/positive_train_indices.txt', 'w') as fp:\n",
    "    for line in pos_indices[:SAMPLE_SIZE]:\n",
    "        fp.write(str(line)+'\\n')\n",
    "\n",
    "# Negative\n",
    "neg_indices = list(range(0,len(train_negative_space)))\n",
    "shuffle(neg_indices)\n",
    "train_negative_sample = [train_negative_space[i] for i in neg_indices[:SAMPLE_SIZE]]\n",
    "\n",
    "# Write in a file\n",
    "with open('./sample/negative_train_indices.txt', 'w') as fp:\n",
    "    for line in neg_indices[:SAMPLE_SIZE]:\n",
    "        fp.write(str(line)+'\\n')\n",
    "\n",
    "training_set = train_positive_sample + train_negative_sample\n",
    "shuffle(training_set)"
   ]
  },
  {
   "cell_type": "code",
   "execution_count": 4,
   "metadata": {},
   "outputs": [],
   "source": [
    "# TF-IDF (Optional)\n",
    "# from collections import defaultdict\n",
    "# import math\n",
    "# \"\"\"\n",
    "# In the dataset, we have each feature in the form of A:B, where:\n",
    "#     A is the index of the word in the vocabulary\n",
    "#     B is the frequency of the word in the instance\n",
    "\n",
    "# In other words, we are given the tf of the words. Now we'll find the idf values for the features\n",
    "# Hence getting the tf-idf values as features.\n",
    "# \"\"\"\n",
    "\n",
    "# N = len(training_set)\n",
    "\n",
    "# vocab_idf = defaultdict(float)\n",
    "\n",
    "# for instance in training_set:\n",
    "#     for features in instance:\n",
    "#         feature = features.split(':')\n",
    "#         vocab_idf[feature[0]] += 1\n",
    "\n",
    "# for key, value in vocab_idf.items():\n",
    "#     vocab_idf[key] = math.log(N/value)"
   ]
  },
  {
   "cell_type": "code",
   "execution_count": 5,
   "metadata": {},
   "outputs": [],
   "source": [
    "# Create the training set\n",
    "from word2bin import word2bin\n",
    "import numpy as np\n",
    "# Get the mappings to the original features\n",
    "w2b, bins = word2bin()\n",
    "\n",
    "train_matrix = np.zeros((len(training_set), len(bins)))\n",
    "train_labels = np.array([i[0] for i in training_set])\n",
    "\n",
    "for i,instance in enumerate(training_set):\n",
    "    for features in instance[1:]:\n",
    "        feature = list(map(int,features.split(':')))\n",
    "        if feature[0] not in w2b.keys(): continue\n",
    "        b_index = w2b[feature[0]]\n",
    "        train_matrix[i,b_index] += feature[1]\n",
    "\n"
   ]
  },
  {
   "cell_type": "code",
   "execution_count": 6,
   "metadata": {},
   "outputs": [],
   "source": [
    "# Save the dataset\n",
    "import pandas as pd\n",
    "\n",
    "# Train\n",
    "df = pd.DataFrame(train_matrix)\n",
    "df.to_csv('./data/train.csv', header=None, index = False)\n",
    "# Train Labels\n",
    "df = pd.DataFrame(train_labels)\n",
    "df.to_csv('./data/train_labels.csv', header=None, index = False)"
   ]
  },
  {
   "cell_type": "code",
   "execution_count": null,
   "metadata": {},
   "outputs": [],
   "source": []
  },
  {
   "cell_type": "code",
   "execution_count": null,
   "metadata": {},
   "outputs": [],
   "source": []
  },
  {
   "cell_type": "code",
   "execution_count": null,
   "metadata": {},
   "outputs": [],
   "source": []
  }
 ],
 "metadata": {
  "kernelspec": {
   "display_name": "Python 3",
   "language": "python",
   "name": "python3"
  },
  "language_info": {
   "codemirror_mode": {
    "name": "ipython",
    "version": 3
   },
   "file_extension": ".py",
   "mimetype": "text/x-python",
   "name": "python",
   "nbconvert_exporter": "python",
   "pygments_lexer": "ipython3",
   "version": "3.6.5"
  }
 },
 "nbformat": 4,
 "nbformat_minor": 2
}
